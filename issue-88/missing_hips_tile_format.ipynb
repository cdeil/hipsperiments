{
 "cells": [
  {
   "cell_type": "code",
   "execution_count": 1,
   "metadata": {
    "collapsed": true
   },
   "outputs": [],
   "source": [
    "# List HiPS with missing `hips_tile_format` key\n",
    "import hips"
   ]
  },
  {
   "cell_type": "code",
   "execution_count": 2,
   "metadata": {},
   "outputs": [
    {
     "name": "stdout",
     "output_type": "stream",
     "text": [
      "Missing hips_tile_format info for: ESAVO/P/HST/WFPC2\n",
      "Missing hips_tile_format info for: ESAVO/P/XMM-Newton/OM/Optical\n",
      "Missing hips_tile_format info for: ESAVO/P/XMM-Newton/OM/UV\n",
      "Missing hips_tile_format info for: arches/P/PN/HipsColor\n"
     ]
    }
   ],
   "source": [
    "surveys = hips.HipsSurveyPropertiesList.fetch()\n",
    "for survey in surveys.data:\n",
    "    if 'hips_tile_format' not in survey.data:\n",
    "        print('Missing hips_tile_format info for:', survey.data['ID'])"
   ]
  },
  {
   "cell_type": "code",
   "execution_count": null,
   "metadata": {
    "collapsed": true
   },
   "outputs": [],
   "source": []
  }
 ],
 "metadata": {
  "kernelspec": {
   "display_name": "Python 3",
   "language": "python",
   "name": "python3"
  },
  "language_info": {
   "codemirror_mode": {
    "name": "ipython",
    "version": 3
   },
   "file_extension": ".py",
   "mimetype": "text/x-python",
   "name": "python",
   "nbconvert_exporter": "python",
   "pygments_lexer": "ipython3",
   "version": "3.6.2"
  }
 },
 "nbformat": 4,
 "nbformat_minor": 2
}
