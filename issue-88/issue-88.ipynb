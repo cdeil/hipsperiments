{
 "cells": [
  {
   "cell_type": "markdown",
   "metadata": {},
   "source": [
    "# hipspy issue 88\n",
    "\n",
    "This notebook is to debug the following issue: https://github.com/hipspy/hips/issues/88\n",
    "and to find a good example of single channel grayscale JPEG HiPS on the CDS servers."
   ]
  },
  {
   "cell_type": "code",
   "execution_count": 1,
   "metadata": {
    "collapsed": true
   },
   "outputs": [],
   "source": [
    "%matplotlib inline\n",
    "import matplotlib.pyplot as plt\n",
    "import hips\n",
    "from urllib.error import HTTPError\n",
    "from skimage.io import imread"
   ]
  },
  {
   "cell_type": "markdown",
   "metadata": {},
   "source": [
    "## Example tile that is single channel JPEG"
   ]
  },
  {
   "cell_type": "code",
   "execution_count": 2,
   "metadata": {},
   "outputs": [
    {
     "name": "stdout",
     "output_type": "stream",
     "text": [
      "(512, 512)\n",
      "uint8\n"
     ]
    }
   ],
   "source": [
    "url = 'https://github.com/hipspy/hips-extra/raw/master/datasets/samples/IRAC4/Norder3/Dir0/Npix299.jpg'\n",
    "data = imread(url)\n",
    "print(data.shape)\n",
    "print(data.dtype)"
   ]
  },
  {
   "cell_type": "markdown",
   "metadata": {},
   "source": [
    "## List HiPS that are single channel JPEG"
   ]
  },
  {
   "cell_type": "code",
   "execution_count": 3,
   "metadata": {},
   "outputs": [
    {
     "name": "stdout",
     "output_type": "stream",
     "text": [
      "{'shape': (512, 512, 3), 'dtype': dtype('uint8'), 'url': 'http://alasky.u-strasbg.fr/2MASS/H/Norder3/Dir0/Npix0.jpg', 'id': 'CDS/P/2MASS/H'}\n",
      "{'shape': (512, 512, 3), 'dtype': dtype('uint8'), 'url': 'http://alasky.u-strasbg.fr/2MASS/J/Norder3/Dir0/Npix0.jpg', 'id': 'CDS/P/2MASS/J'}\n",
      "{'shape': (512, 512, 3), 'dtype': dtype('uint8'), 'url': 'http://alasky.u-strasbg.fr/2MASS/K/Norder3/Dir0/Npix0.jpg', 'id': 'CDS/P/2MASS/K'}\n",
      "{'shape': (512, 512, 3), 'dtype': dtype('uint8'), 'url': 'http://alasky.u-strasbg.fr/2MASS/Color/Norder3/Dir0/Npix0.jpg', 'id': 'CDS/P/2MASS/color'}\n",
      "HTTP error: CDS/P/2MASS6X/H\n",
      "HTTP error: CDS/P/2MASS6X/J\n",
      "HTTP error: CDS/P/2MASS6X/K\n",
      "{'shape': (512, 512, 3), 'dtype': dtype('uint8'), 'url': 'http://alasky.u-strasbg.fr/AKARI-FIS/ColorLSN60/Norder3/Dir0/Npix0.jpg', 'id': 'CDS/P/AKARI/FIS/Color'}\n",
      "HTTP error: CDS/P/CFHTLS/D/color/ugi\n",
      "HTTP error: CDS/P/CFHTLS/D/g\n",
      "HTTP error: CDS/P/CFHTLS/D/i\n",
      "HTTP error: CDS/P/CFHTLS/D/r\n",
      "HTTP error: CDS/P/CFHTLS/D/u\n",
      "HTTP error: CDS/P/CFHTLS/D/z\n",
      "HTTP error: CDS/P/CFHTLS/W/Color/ugi\n",
      "HTTP error: CDS/P/CFHTLS/W/g\n",
      "HTTP error: CDS/P/CFHTLS/W/i\n",
      "HTTP error: CDS/P/CFHTLS/W/r\n",
      "HTTP error: CDS/P/CFHTLS/W/u\n",
      "HTTP error: CDS/P/CFHTLS/W/z\n",
      "{'shape': (64, 64, 3), 'dtype': dtype('uint8'), 'url': 'http://alasky.u-strasbg.fr/CO/Norder3/Dir0/Npix0.jpg', 'id': 'CDS/P/CO'}\n",
      "HTTP error: CDS/P/COHRS\n",
      "{'shape': (512, 512, 3), 'dtype': dtype('uint8'), 'url': 'http://alasky.u-strasbg.fr/DECaLS/DR3/color/Norder3/Dir0/Npix0.jpg', 'id': 'CDS/P/DECaLS/DR3/color'}\n",
      "{'shape': (512, 512, 3), 'dtype': dtype('uint8'), 'url': 'http://alasky.u-strasbg.fr/DSS/DSS2-NIR/Norder3/Dir0/Npix0.jpg', 'id': 'CDS/P/DSS2/NIR'}\n",
      "{'shape': (512, 512, 3), 'dtype': dtype('uint8'), 'url': 'http://alasky.u-strasbg.fr/DSS/DSS2-blue-XJ-S/Norder3/Dir0/Npix0.jpg', 'id': 'CDS/P/DSS2/blue'}\n",
      "{'shape': (512, 512, 3), 'dtype': dtype('uint8'), 'url': 'http://alasky.u-strasbg.fr/DSS/DSSColor/Norder3/Dir0/Npix0.jpg', 'id': 'CDS/P/DSS2/color'}\n",
      "{'shape': (512, 512, 3), 'dtype': dtype('uint8'), 'url': 'http://alasky.u-strasbg.fr/DSS/DSS2Merged/Norder3/Dir0/Npix0.jpg', 'id': 'CDS/P/DSS2/red'}\n",
      "{'shape': (128, 128, 3), 'dtype': dtype('uint8'), 'url': 'http://alasky.u-strasbg.fr/EGRET/EGRET-dif/EGRET_dif_100-150/Norder3/Dir0/Npix0.jpg', 'id': 'CDS/P/EGRET/Dif/100-150'}\n",
      "{'shape': (128, 128, 3), 'dtype': dtype('uint8'), 'url': 'http://alasky.u-strasbg.fr/EGRET/EGRET-dif/EGRET_dif_1000-2000/Norder3/Dir0/Npix0.jpg', 'id': 'CDS/P/EGRET/Dif/1000-2000'}\n",
      "{'shape': (128, 128, 3), 'dtype': dtype('uint8'), 'url': 'http://alasky.u-strasbg.fr/EGRET/EGRET-dif/EGRET_dif_150-300/Norder3/Dir0/Npix0.jpg', 'id': 'CDS/P/EGRET/Dif/150-300'}\n",
      "{'shape': (128, 128, 3), 'dtype': dtype('uint8'), 'url': 'http://alasky.u-strasbg.fr/EGRET/EGRET-dif/EGRET_dif_2000-4000/Norder3/Dir0/Npix0.jpg', 'id': 'CDS/P/EGRET/Dif/2000-4000'}\n",
      "{'shape': (128, 128, 3), 'dtype': dtype('uint8'), 'url': 'http://alasky.u-strasbg.fr/EGRET/EGRET-dif/EGRET_dif_30-50/Norder3/Dir0/Npix0.jpg', 'id': 'CDS/P/EGRET/Dif/30-50'}\n",
      "{'shape': (128, 128, 3), 'dtype': dtype('uint8'), 'url': 'http://alasky.u-strasbg.fr/EGRET/EGRET-dif/EGRET_dif_300-500/Norder3/Dir0/Npix0.jpg', 'id': 'CDS/P/EGRET/Dif/300-500'}\n",
      "{'shape': (128, 128, 3), 'dtype': dtype('uint8'), 'url': 'http://alasky.u-strasbg.fr/EGRET/EGRET-dif/EGRET_dif_4000-10000/Norder3/Dir0/Npix0.jpg', 'id': 'CDS/P/EGRET/Dif/4000-10000'}\n",
      "{'shape': (128, 128, 3), 'dtype': dtype('uint8'), 'url': 'http://alasky.u-strasbg.fr/EGRET/EGRET-dif/EGRET_dif_50-70/Norder3/Dir0/Npix0.jpg', 'id': 'CDS/P/EGRET/Dif/50-70'}\n",
      "{'shape': (128, 128, 3), 'dtype': dtype('uint8'), 'url': 'http://alasky.u-strasbg.fr/EGRET/EGRET-dif/EGRET_dif_500-1000/Norder3/Dir0/Npix0.jpg', 'id': 'CDS/P/EGRET/Dif/500-1000'}\n",
      "{'shape': (128, 128, 3), 'dtype': dtype('uint8'), 'url': 'http://alasky.u-strasbg.fr/EGRET/EGRET-dif/EGRET_dif_70-100/Norder3/Dir0/Npix0.jpg', 'id': 'CDS/P/EGRET/Dif/70-100'}\n",
      "{'shape': (512, 512, 3), 'dtype': dtype('uint8'), 'url': 'http://alasky.u-strasbg.fr/EGRET/EGRET-inf100/Norder3/Dir0/Npix0.jpg', 'id': 'CDS/P/EGRET/inf100'}\n",
      "{'shape': (512, 512, 3), 'dtype': dtype('uint8'), 'url': 'http://alasky.u-strasbg.fr/EGRET/EGRET-sup100/Norder3/Dir0/Npix0.jpg', 'id': 'CDS/P/EGRET/sup100'}\n",
      "{'shape': (512, 512, 3), 'dtype': dtype('uint8'), 'url': 'http://alasky.u-strasbg.fr/Fermi/300-1000MeV/Norder3/Dir0/Npix0.jpg', 'id': 'CDS/P/Fermi/3'}\n",
      "{'shape': (512, 512, 3), 'dtype': dtype('uint8'), 'url': 'http://alasky.u-strasbg.fr/Fermi/1-3GeV/Norder3/Dir0/Npix0.jpg', 'id': 'CDS/P/Fermi/4'}\n",
      "{'shape': (512, 512, 3), 'dtype': dtype('uint8'), 'url': 'http://alasky.u-strasbg.fr/Fermi/3-300GeV/Norder3/Dir0/Npix0.jpg', 'id': 'CDS/P/Fermi/5'}\n",
      "{'shape': (512, 512, 3), 'dtype': dtype('uint8'), 'url': 'http://alasky.u-strasbg.fr/Fermi/Color/Norder3/Dir0/Npix0.jpg', 'id': 'CDS/P/Fermi/color'}\n",
      "{'shape': (128, 128, 3), 'dtype': dtype('uint8'), 'url': 'http://alasky.u-strasbg.fr/FinkbeinerHalpha/Norder3/Dir0/Npix0.jpg', 'id': 'CDS/P/Finkbeiner'}\n",
      "{'shape': (512, 512, 3), 'dtype': dtype('uint8'), 'url': 'http://alasky.u-strasbg.fr/GALEX/GR6-02-FD/Norder3/Dir0/Npix0.jpg', 'id': 'CDS/P/GALEXGR6/AIS/FUV/old'}\n",
      "{'shape': (512, 512, 3), 'dtype': dtype('uint8'), 'url': 'http://alasky.u-strasbg.fr/GALEX/GR6-02-ND/Norder3/Dir0/Npix0.jpg', 'id': 'CDS/P/GALEXGR6/AIS/NUV/old'}\n",
      "{'shape': (512, 512, 3), 'dtype': dtype('uint8'), 'url': 'http://alasky.u-strasbg.fr/GALEX/GR6-03-2014/AIS-Color/Norder3/Dir0/Npix0.jpg', 'id': 'CDS/P/GALEXGR6/AIS/color'}\n",
      "{'shape': (64, 64, 3), 'dtype': dtype('uint8'), 'url': 'http://alasky.u-strasbg.fr/HI/Norder3/Dir0/Npix0.jpg', 'id': 'CDS/P/HI'}\n",
      "HTTP error: CDS/P/HST/PHAT/F110W\n",
      "HTTP error: CDS/P/HST/PHAT/F160W\n",
      "HTTP error: CDS/P/HST/PHAT/F275W\n",
      "HTTP error: CDS/P/HST/PHAT/F336W\n",
      "HTTP error: CDS/P/HST/PHAT/F475W\n",
      "HTTP error: CDS/P/HST/PHAT/F814W\n",
      "{'shape': (64, 64, 3), 'dtype': dtype('uint8'), 'url': 'http://alasky.u-strasbg.fr/Haslam408/Norder3/Dir0/Npix0.jpg', 'id': 'CDS/P/Haslam408'}\n",
      "{'shape': (256, 256, 3), 'dtype': dtype('uint8'), 'url': 'http://alasky.u-strasbg.fr/Haslam408_2014/Norder3/Dir0/Npix0.jpg', 'id': 'CDS/P/Haslam408/v2'}\n",
      "HTTP error: CDS/P/INTGAL/Color\n",
      "{'shape': (256, 256, 3), 'dtype': dtype('uint8'), 'url': 'http://alasky.u-strasbg.fr/IRISColor/Norder3/Dir0/Npix0.jpg', 'id': 'CDS/P/IRIS/color'}\n",
      "{'shape': (512, 512, 3), 'dtype': dtype('uint8'), 'url': 'http://alasky.u-strasbg.fr/MellingerRGB/Norder3/Dir0/Npix0.jpg', 'id': 'CDS/P/Mellinger/color'}\n",
      "{'shape': (512, 512, 3), 'dtype': dtype('uint8'), 'url': 'http://alasky.u-strasbg.fr/NVSS/intensity/Norder3/Dir0/Npix0.jpg', 'id': 'CDS/P/NVSS'}\n",
      "{'shape': (256, 256, 3), 'dtype': dtype('uint8'), 'url': 'http://alasky.u-strasbg.fr/PLANCK/CMB/Norder3/Dir0/Npix0.jpg', 'id': 'CDS/P/PLANCK/CMB'}\n",
      "{'shape': (256, 256, 3), 'dtype': dtype('uint8'), 'url': 'http://alasky.u-strasbg.fr/PLANCK/HFIColor353-545-857/Norder3/Dir0/Npix0.jpg', 'id': 'CDS/P/PLANCK/HFI/color'}\n",
      "{'shape': (256, 256, 3), 'dtype': dtype('uint8'), 'url': 'http://alasky.u-strasbg.fr/PLANCK/HFI100/Norder3/Dir0/Npix0.jpg', 'id': 'CDS/P/PLANCK/HFI100'}\n",
      "{'shape': (256, 256, 3), 'dtype': dtype('uint8'), 'url': 'http://alasky.u-strasbg.fr/PLANCK/HFI143/Norder3/Dir0/Npix0.jpg', 'id': 'CDS/P/PLANCK/HFI143'}\n",
      "{'shape': (256, 256, 3), 'dtype': dtype('uint8'), 'url': 'http://alasky.u-strasbg.fr/PLANCK/HFI217/Norder3/Dir0/Npix0.jpg', 'id': 'CDS/P/PLANCK/HFI217'}\n",
      "{'shape': (256, 256, 3), 'dtype': dtype('uint8'), 'url': 'http://alasky.u-strasbg.fr/PLANCK/HFI353/Norder3/Dir0/Npix0.jpg', 'id': 'CDS/P/PLANCK/HFI353'}\n",
      "{'shape': (256, 256, 3), 'dtype': dtype('uint8'), 'url': 'http://alasky.u-strasbg.fr/PLANCK/HFI545/Norder3/Dir0/Npix0.jpg', 'id': 'CDS/P/PLANCK/HFI545'}\n",
      "{'shape': (256, 256, 3), 'dtype': dtype('uint8'), 'url': 'http://alasky.u-strasbg.fr/PLANCK/HFI857/Norder3/Dir0/Npix0.jpg', 'id': 'CDS/P/PLANCK/HFI857'}\n",
      "{'shape': (128, 128, 3), 'dtype': dtype('uint8'), 'url': 'http://alasky.u-strasbg.fr/PLANCK/LFIColor30-44-70/Norder3/Dir0/Npix0.jpg', 'id': 'CDS/P/PLANCK/LFI/color'}\n",
      "{'shape': (128, 128, 3), 'dtype': dtype('uint8'), 'url': 'http://alasky.u-strasbg.fr/PLANCK/LFI030/Norder3/Dir0/Npix0.jpg', 'id': 'CDS/P/PLANCK/LFI030'}\n",
      "{'shape': (128, 128, 3), 'dtype': dtype('uint8'), 'url': 'http://alasky.u-strasbg.fr/PLANCK/LFI044/Norder3/Dir0/Npix0.jpg', 'id': 'CDS/P/PLANCK/LFI044'}\n",
      "{'shape': (128, 128, 3), 'dtype': dtype('uint8'), 'url': 'http://alasky.u-strasbg.fr/PLANCK/LFI070/Norder3/Dir0/Npix0.jpg', 'id': 'CDS/P/PLANCK/LFI070'}\n"
     ]
    },
    {
     "name": "stdout",
     "output_type": "stream",
     "text": [
      "{'shape': (256, 256, 3), 'dtype': dtype('uint8'), 'url': 'http://alasky.u-strasbg.fr/PLANCK/R2/HFI_Color_353_545_857/Norder3/Dir0/Npix0.jpg', 'id': 'CDS/P/PLANCK/R2/HFI/color'}\n",
      "{'shape': (128, 128, 3), 'dtype': dtype('uint8'), 'url': 'http://alasky.u-strasbg.fr/PLANCK/R2/LFI_Color_30_44_70/Norder3/Dir0/Npix0.jpg', 'id': 'CDS/P/PLANCK/R2/LFI/color'}\n",
      "{'shape': (512, 512, 3), 'dtype': dtype('uint8'), 'url': 'http://alasky.u-strasbg.fr/RASS/Norder3/Dir0/Npix0.jpg', 'id': 'CDS/P/RASS'}\n",
      "HTTP error: CDS/P/SCUBA/450em\n",
      "HTTP error: CDS/P/SCUBA/850em\n",
      "{'shape': (512, 512, 3), 'dtype': dtype('uint8'), 'url': 'http://alasky.u-strasbg.fr/SCUBA/Scuba850eALLSKY/Norder3/Dir0/Npix0.jpg', 'id': 'CDS/P/SCUBA/850emi'}\n",
      "{'shape': (512, 512, 3), 'dtype': dtype('uint8'), 'url': 'http://alasky.u-strasbg.fr/SCUBA2/Scuba2_450/Norder3/Dir0/Npix0.jpg', 'id': 'CDS/P/SCUBA2/450em'}\n",
      "{'shape': (512, 512, 3), 'dtype': dtype('uint8'), 'url': 'http://alasky.u-strasbg.fr/SCUBA2/Scuba2_850/Norder3/Dir0/Npix0.jpg', 'id': 'CDS/P/SCUBA2/850em'}\n",
      "{'shape': (512, 512, 3), 'dtype': dtype('uint8'), 'url': 'http://alasky.u-strasbg.fr/SDSS/DR9/color/Norder3/Dir0/Npix0.jpg', 'id': 'CDS/P/SDSS9/color'}\n",
      "{'shape': (512, 512, 3), 'dtype': dtype('uint8'), 'url': 'http://alasky.u-strasbg.fr/SDSS/DR9/band-g/Norder3/Dir0/Npix0.jpg', 'id': 'CDS/P/SDSS9/g'}\n",
      "{'shape': (512, 512, 3), 'dtype': dtype('uint8'), 'url': 'http://alasky.u-strasbg.fr/SDSS/DR9/band-i/Norder3/Dir0/Npix0.jpg', 'id': 'CDS/P/SDSS9/i'}\n",
      "{'shape': (512, 512, 3), 'dtype': dtype('uint8'), 'url': 'http://alasky.u-strasbg.fr/SDSS/DR9/band-r/Norder3/Dir0/Npix0.jpg', 'id': 'CDS/P/SDSS9/r'}\n",
      "{'shape': (512, 512, 3), 'dtype': dtype('uint8'), 'url': 'http://alasky.u-strasbg.fr/SDSS/DR9/band-u/Norder3/Dir0/Npix0.jpg', 'id': 'CDS/P/SDSS9/u'}\n",
      "{'shape': (512, 512, 3), 'dtype': dtype('uint8'), 'url': 'http://alasky.u-strasbg.fr/SDSS/DR9/band-z/Norder3/Dir0/Npix0.jpg', 'id': 'CDS/P/SDSS9/z'}\n",
      "{'shape': (512, 512, 3), 'dtype': dtype('uint8'), 'url': 'http://alasky.u-strasbg.fr/SHASSA-DU/Norder3/Dir0/Npix0.jpg', 'id': 'CDS/P/SHASSA/DU'}\n",
      "{'shape': (512, 512, 3), 'dtype': dtype('uint8'), 'url': 'http://alasky.u-strasbg.fr/SHASSA-FL/Norder3/Dir0/Npix0.jpg', 'id': 'CDS/P/SHASSA/FL'}\n",
      "{'shape': (512, 512, 3), 'dtype': dtype('uint8'), 'url': 'http://alasky.u-strasbg.fr/SHASSA-H3/Norder3/Dir0/Npix0.jpg', 'id': 'CDS/P/SHASSA/H'}\n",
      "{'shape': (512, 512, 3), 'dtype': dtype('uint8'), 'url': 'http://alasky.u-strasbg.fr/SHASSA-SM/Norder3/Dir0/Npix0.jpg', 'id': 'CDS/P/SHASSA/SM'}\n",
      "HTTP error: CDS/P/SHS\n",
      "{'shape': (512, 512, 3), 'dtype': dtype('uint8'), 'url': 'http://alasky.u-strasbg.fr/IRAC1/Norder3/Dir0/Npix0.jpg', 'id': 'CDS/P/SPITZER/IRAC1'}\n",
      "{'shape': (512, 512, 3), 'dtype': dtype('uint8'), 'url': 'http://alasky.u-strasbg.fr/IRAC2/Norder3/Dir0/Npix0.jpg', 'id': 'CDS/P/SPITZER/IRAC2'}\n",
      "{'shape': (512, 512, 3), 'dtype': dtype('uint8'), 'url': 'http://alasky.u-strasbg.fr/IRAC3/Norder3/Dir0/Npix0.jpg', 'id': 'CDS/P/SPITZER/IRAC3'}\n",
      "{'shape': (512, 512, 3), 'dtype': dtype('uint8'), 'url': 'http://alasky.u-strasbg.fr/IRAC4/Norder3/Dir0/Npix0.jpg', 'id': 'CDS/P/SPITZER/IRAC4'}\n",
      "{'shape': (512, 512, 3), 'dtype': dtype('uint8'), 'url': 'http://alasky.u-strasbg.fr/MIPS1/Norder3/Dir0/Npix0.jpg', 'id': 'CDS/P/SPITZER/MIPS1'}\n",
      "HTTP error: CDS/P/SPITZER/MIPS2\n",
      "HTTP error: CDS/P/SPITZER/MIPS3\n",
      "{'shape': (512, 512, 3), 'dtype': dtype('uint8'), 'url': 'http://alasky.u-strasbg.fr/SpitzerI1I2I4color/Norder3/Dir0/Npix0.jpg', 'id': 'CDS/P/SPITZER/color'}\n",
      "HTTP error: CDS/P/ULTRAVISTA/H\n",
      "HTTP error: CDS/P/ULTRAVISTA/J\n",
      "HTTP error: CDS/P/ULTRAVISTA/Ks\n",
      "HTTP error: CDS/P/ULTRAVISTA/NB118\n",
      "HTTP error: CDS/P/ULTRAVISTA/Y\n",
      "HTTP error: CDS/P/ULTRAVISTA/color/YJKs\n",
      "{'shape': (512, 512, 3), 'dtype': dtype('uint8'), 'url': 'http://alasky.u-strasbg.fr/VTSS/Ha/Norder3/Dir0/Npix0.jpg', 'id': 'CDS/P/VTSS/Ha'}\n",
      "{'shape': (512, 512, 3), 'dtype': dtype('uint8'), 'url': 'http://alasky.u-strasbg.fr/VTSS/HaCC/Norder3/Dir0/Npix0.jpg', 'id': 'CDS/P/VTSS/HaCC'}\n",
      "HTTP error: CDS/P/WENSS\n",
      "{'shape': (512, 512, 3), 'dtype': dtype('uint8'), 'url': 'http://alasky.u-strasbg.fr/WISE/W1/Norder3/Dir0/Npix0.jpg', 'id': 'CDS/P/WISE/W1'}\n",
      "{'shape': (512, 512, 3), 'dtype': dtype('uint8'), 'url': 'http://alasky.u-strasbg.fr/WISE/W2/Norder3/Dir0/Npix0.jpg', 'id': 'CDS/P/WISE/W2'}\n",
      "{'shape': (512, 512, 3), 'dtype': dtype('uint8'), 'url': 'http://alasky.u-strasbg.fr/WISE/W3/Norder3/Dir0/Npix0.jpg', 'id': 'CDS/P/WISE/W3'}\n",
      "{'shape': (512, 512, 3), 'dtype': dtype('uint8'), 'url': 'http://alasky.u-strasbg.fr/WISE/W4/Norder3/Dir0/Npix0.jpg', 'id': 'CDS/P/WISE/W4'}\n",
      "{'shape': (512, 512, 3), 'dtype': dtype('uint8'), 'url': 'http://alasky.u-strasbg.fr/WSSA/Norder3/Dir0/Npix0.jpg', 'id': 'CDS/P/WISE/WSSA/12um'}\n",
      "{'shape': (64, 64, 3), 'dtype': dtype('uint8'), 'url': 'http://alasky.u-strasbg.fr/WMAP9yr/WMAPK9yr/Norder3/Dir0/Npix0.jpg', 'id': 'CDS/P/WMAP/K/9yr'}\n",
      "{'shape': (64, 64, 3), 'dtype': dtype('uint8'), 'url': 'http://alasky.u-strasbg.fr/WMAP9yr/WMAPKa9yr/Norder3/Dir0/Npix0.jpg', 'id': 'CDS/P/WMAP/Ka/9yr'}\n",
      "{'shape': (64, 64, 3), 'dtype': dtype('uint8'), 'url': 'http://alasky.u-strasbg.fr/WMAP9yr/WMAPQ9yr/Norder3/Dir0/Npix0.jpg', 'id': 'CDS/P/WMAP/Q/9yr'}\n",
      "{'shape': (64, 64, 3), 'dtype': dtype('uint8'), 'url': 'http://alasky.u-strasbg.fr/WMAP9yr/WMAPV9yr/Norder3/Dir0/Npix0.jpg', 'id': 'CDS/P/WMAP/V/9yr'}\n",
      "{'shape': (64, 64, 3), 'dtype': dtype('uint8'), 'url': 'http://alasky.u-strasbg.fr/WMAP9yr/WMAPW9yr/Norder3/Dir0/Npix0.jpg', 'id': 'CDS/P/WMAP/W/9yr'}\n",
      "{'shape': (512, 512, 3), 'dtype': dtype('uint8'), 'url': 'http://alasky.u-strasbg.fr/AllWISE/W1/Norder3/Dir0/Npix0.jpg', 'id': 'CDS/P/allWISE/W1'}\n",
      "{'shape': (512, 512, 3), 'dtype': dtype('uint8'), 'url': 'http://alasky.u-strasbg.fr/AllWISE/W2/Norder3/Dir0/Npix0.jpg', 'id': 'CDS/P/allWISE/W2'}\n",
      "{'shape': (512, 512, 3), 'dtype': dtype('uint8'), 'url': 'http://alasky.u-strasbg.fr/AllWISE/W3/Norder3/Dir0/Npix0.jpg', 'id': 'CDS/P/allWISE/W3'}\n",
      "{'shape': (512, 512, 3), 'dtype': dtype('uint8'), 'url': 'http://alasky.u-strasbg.fr/AllWISE/W4/Norder3/Dir0/Npix0.jpg', 'id': 'CDS/P/allWISE/W4'}\n",
      "{'shape': (512, 512, 3), 'dtype': dtype('uint8'), 'url': 'http://alasky.u-strasbg.fr/AllWISE/RGB-W4-W2-W1/Norder3/Dir0/Npix0.jpg', 'id': 'CDS/P/allWISE/color'}\n",
      "{'shape': (32, 32, 3), 'dtype': dtype('uint8'), 'url': 'http://skies.esac.esa.int/AKARI/N160/Norder3/Dir0/Npix0.jpg', 'id': 'ESAVO/P/AKARI/N160'}\n",
      "{'shape': (32, 32, 3), 'dtype': dtype('uint8'), 'url': 'http://skies.esac.esa.int/AKARI/N60/Norder3/Dir0/Npix0.jpg', 'id': 'ESAVO/P/AKARI/N60'}\n",
      "{'shape': (32, 32, 3), 'dtype': dtype('uint8'), 'url': 'http://skies.esac.esa.int/AKARI/WideL/Norder3/Dir0/Npix0.jpg', 'id': 'ESAVO/P/AKARI/WideL'}\n",
      "{'shape': (32, 32, 3), 'dtype': dtype('uint8'), 'url': 'http://skies.esac.esa.int/AKARI/WideS/Norder3/Dir0/Npix0.jpg', 'id': 'ESAVO/P/AKARI/WideS'}\n",
      "{'shape': (32, 32, 3), 'dtype': dtype('uint8'), 'url': 'http://skies.esac.esa.int/AKARI/color//Norder3/Dir0/Npix0.jpg', 'id': 'ESAVO/P/AKARI/color'}\n",
      "{'shape': (512, 512, 3), 'dtype': dtype('uint8'), 'url': 'http://skies.esac.esa.int/EXOSAT/LE//Norder3/Dir0/Npix0.jpg', 'id': 'ESAVO/P/EXOSAT/all'}\n",
      "{'shape': (512, 512, 3), 'dtype': dtype('uint8'), 'url': 'http://skies.esac.esa.int/Herschel/PACS-color/Norder3/Dir0/Npix0.jpg', 'id': 'ESAVO/P/HERSCHEL/PACS-color'}\n",
      "{'shape': (512, 512, 3), 'dtype': dtype('uint8'), 'url': 'http://skies.esac.esa.int/Herschel/PACS100/Norder3/Dir0/Npix0.jpg', 'id': 'ESAVO/P/HERSCHEL/PACS100'}\n",
      "{'shape': (512, 512, 3), 'dtype': dtype('uint8'), 'url': 'http://skies.esac.esa.int/Herschel/PACS160/Norder3/Dir0/Npix0.jpg', 'id': 'ESAVO/P/HERSCHEL/PACS160'}\n",
      "{'shape': (512, 512, 3), 'dtype': dtype('uint8'), 'url': 'http://skies.esac.esa.int/Herschel/PACS70/Norder3/Dir0/Npix0.jpg', 'id': 'ESAVO/P/HERSCHEL/PACS70'}\n",
      "{'shape': (512, 512, 3), 'dtype': dtype('uint8'), 'url': 'http://skies.esac.esa.int/HST/ACS//Norder3/Dir0/Npix0.jpg', 'id': 'ESAVO/P/HST/ACS-blue'}\n",
      "{'shape': (512, 512, 3), 'dtype': dtype('uint8'), 'url': 'http://skies.esac.esa.int/HST/FOC/Norder3/Dir0/Npix0.jpg', 'id': 'ESAVO/P/HST/FOC'}\n",
      "{'shape': (512, 512, 3), 'dtype': dtype('uint8'), 'url': 'http://skies.esac.esa.int/HST/NICMOS//Norder3/Dir0/Npix0.jpg', 'id': 'ESAVO/P/HST/NICMOS'}\n",
      "{'shape': (512, 512, 3), 'dtype': dtype('uint8'), 'url': 'http://skies.esac.esa.int/HST/WFPC/Norder3/Dir0/Npix0.jpg', 'id': 'ESAVO/P/HST/WFPC'}\n",
      "Missing hips_tile_format info for: ESAVO/P/HST/WFPC2\n"
     ]
    },
    {
     "name": "stdout",
     "output_type": "stream",
     "text": [
      "HTTP error: ESAVO/P/INTEGRAL/20-35kev\n",
      "{'shape': (512, 512, 3), 'dtype': dtype('uint8'), 'url': 'http://skies.esac.esa.int/Integral/35-65/Norder3/Dir0/Npix0.jpg', 'id': 'ESAVO/P/INTEGRAL/35-65kev'}\n",
      "{'shape': (512, 512, 3), 'dtype': dtype('uint8'), 'url': 'http://skies.esac.esa.int/Integral/65-100/Norder3/Dir0/Npix0.jpg', 'id': 'ESAVO/P/INTEGRAL/65-100kev'}\n",
      "{'shape': (512, 512, 3), 'dtype': dtype('uint8'), 'url': 'http://skies.esac.esa.int/Integral/color/Norder3/Dir0/Npix0.jpg', 'id': 'ESAVO/P/INTEGRAL/color'}\n",
      "{'shape': (512, 512, 3), 'dtype': dtype('uint8'), 'url': 'http://skies.esac.esa.int/ISO/CAM/Norder3/Dir0/Npix0.jpg', 'id': 'ESAVO/P/ISO/CAM'}\n",
      "{'shape': (256, 256, 3), 'dtype': dtype('uint8'), 'url': 'http://skies.esac.esa.int/pla/HFI_SkyMap_143_2048_R2_02_full_HiPS//Norder3/Dir0/Npix0.jpg', 'id': 'ESAVO/P/PLANCK/HFI-143'}\n",
      "{'shape': (256, 256, 3), 'dtype': dtype('uint8'), 'url': 'http://skies.esac.esa.int/pla/HFI_SkyMap_217_2048_R2_02_full_HiPS//Norder3/Dir0/Npix0.jpg', 'id': 'ESAVO/P/PLANCK/HFI-217'}\n",
      "{'shape': (256, 256, 3), 'dtype': dtype('uint8'), 'url': 'http://skies.esac.esa.int/pla/HFI_SkyMap_353_2048_R2_02_full_HiPS//Norder3/Dir0/Npix0.jpg', 'id': 'ESAVO/P/PLANCK/HFI-353'}\n",
      "{'shape': (256, 256, 3), 'dtype': dtype('uint8'), 'url': 'http://skies.esac.esa.int/pla/HFI_SkyMap_545_2048_R2_02_full_HiPS//Norder3/Dir0/Npix0.jpg', 'id': 'ESAVO/P/PLANCK/HFI-545'}\n",
      "{'shape': (256, 256, 3), 'dtype': dtype('uint8'), 'url': 'http://skies.esac.esa.int/pla/HFI_SkyMap_100_2048_R2_02_full_HiPS//Norder3/Dir0/Npix0.jpg', 'id': 'ESAVO/P/PLANCK/HFI-857'}\n",
      "{'shape': (128, 128, 3), 'dtype': dtype('uint8'), 'url': 'http://skies.esac.esa.int/pla/LFI_SkyMap_030_1024_R2_01_full_HiPS//Norder3/Dir0/Npix0.jpg', 'id': 'ESAVO/P/PLANCK/LFI-030'}\n",
      "{'shape': (128, 128, 3), 'dtype': dtype('uint8'), 'url': 'http://skies.esac.esa.int/pla/LFI_SkyMap_044_1024_R2_01_full_HiPS//Norder3/Dir0/Npix0.jpg', 'id': 'ESAVO/P/PLANCK/LFI-044'}\n",
      "{'shape': (256, 256, 3), 'dtype': dtype('uint8'), 'url': 'http://skies.esac.esa.int/pla/LFI_SkyMap_070_2048_R2_01_full_HiPS//Norder3/Dir0/Npix0.jpg', 'id': 'ESAVO/P/PLANCK/LFI-070'}\n",
      "Missing hips_tile_format info for: ESAVO/P/XMM-Newton/OM/Optical\n",
      "Missing hips_tile_format info for: ESAVO/P/XMM-Newton/OM/UV\n",
      "{'shape': (512, 512, 3), 'dtype': dtype('uint8'), 'url': 'http://skies.esac.esa.int/XMM-Newton/EPIC-RGB/Norder3/Dir0/Npix0.jpg', 'id': 'ESAVO/P/XMM/EPIC-RGB'}\n",
      "{'shape': (256, 256, 3), 'dtype': dtype('uint8'), 'url': 'http://skies.esac.esa.int/pla/HFI_SkyMap_857_2048_R2_02_full_HiPS//Norder3/Dir0/Npix0.jpg', 'id': 'ESAVO/P/pla/HFI-857'}\n",
      "HTTP error: IPAC/P/GLIMPSE360\n",
      "Missing hips_tile_format info for: arches/P/PN/HipsColor\n",
      "{'shape': (512, 512, 3), 'dtype': dtype('uint8'), 'url': 'http://cade.irap.omp.eu/documents/Ancillary/4Aladin/AKARI_160/Norder3/Dir0/Npix0.jpg', 'id': 'ov-gso/P/AKARI/160'}\n",
      "{'shape': (512, 512, 3), 'dtype': dtype('uint8'), 'url': 'http://cade.irap.omp.eu/documents/Ancillary/4Aladin/AKARI_65/Norder3/Dir0/Npix0.jpg', 'id': 'ov-gso/P/AKARI/65'}\n",
      "{'shape': (512, 512, 3), 'dtype': dtype('uint8'), 'url': 'http://cade.irap.omp.eu/documents/Ancillary/4Aladin/AKARI_WideL/Norder3/Dir0/Npix0.jpg', 'id': 'ov-gso/P/AKARI/WideL'}\n",
      "{'shape': (512, 512, 3), 'dtype': dtype('uint8'), 'url': 'http://cade.irap.omp.eu/documents/Ancillary/4Aladin/AKARI_WideS/Norder3/Dir0/Npix0.jpg', 'id': 'ov-gso/P/AKARI/WideS'}\n",
      "{'shape': (512, 512, 3), 'dtype': dtype('uint8'), 'url': 'http://cade.irap.omp.eu/documents/Ancillary/4Aladin/BLAST_250/Norder3/Dir0/Npix0.jpg', 'id': 'ov-gso/P/BLAST/250'}\n",
      "{'shape': (512, 512, 3), 'dtype': dtype('uint8'), 'url': 'http://cade.irap.omp.eu/documents/Ancillary/4Aladin/BLAST_350/Norder3/Dir0/Npix0.jpg', 'id': 'ov-gso/P/BLAST/350'}\n",
      "{'shape': (512, 512, 3), 'dtype': dtype('uint8'), 'url': 'http://cade.irap.omp.eu/documents/Ancillary/4Aladin/BLAST_500/Norder3/Dir0/Npix0.jpg', 'id': 'ov-gso/P/BLAST/500'}\n",
      "{'shape': (512, 512, 3), 'dtype': dtype('uint8'), 'url': 'http://cade.irap.omp.eu/documents/Ancillary/4Aladin/BOLOCAM/Norder3/Dir0/Npix0.jpg', 'id': 'ov-gso/P/BOLOCAM'}\n",
      "{'shape': (512, 512, 3), 'dtype': dtype('uint8'), 'url': 'http://cade.irap.omp.eu/documents/Ancillary/4Aladin/CGPS_VGPS/Norder3/Dir0/Npix0.jpg', 'id': 'ov-gso/P/CGPS/VGPS'}\n",
      "{'shape': (512, 512, 3), 'dtype': dtype('uint8'), 'url': 'http://cade.irap.omp.eu/documents/Ancillary/4Aladin/CGPS_VGPS_CONT/Norder3/Dir0/Npix0.jpg', 'id': 'ov-gso/P/CGPS/VGPS/CONT'}\n",
      "{'shape': (128, 128, 3), 'dtype': dtype('uint8'), 'url': 'http://cade.irap.omp.eu/documents/Ancillary/4Aladin/CHIPASS/Norder3/Dir0/Npix0.jpg', 'id': 'ov-gso/P/CHIPASS'}\n",
      "{'shape': (32, 32, 3), 'dtype': dtype('uint8'), 'url': 'http://cade.irap.omp.eu/documents/Ancillary/4Aladin/DIRBE_1/Norder3/Dir0/Npix0.jpg', 'id': 'ov-gso/P/DIRBE/1'}\n",
      "{'shape': (32, 32, 3), 'dtype': dtype('uint8'), 'url': 'http://cade.irap.omp.eu/documents/Ancillary/4Aladin/DIRBE_10/Norder3/Dir0/Npix0.jpg', 'id': 'ov-gso/P/DIRBE/10'}\n",
      "{'shape': (32, 32, 3), 'dtype': dtype('uint8'), 'url': 'http://cade.irap.omp.eu/documents/Ancillary/4Aladin/DIRBE_2/Norder3/Dir0/Npix0.jpg', 'id': 'ov-gso/P/DIRBE/2'}\n",
      "{'shape': (32, 32, 3), 'dtype': dtype('uint8'), 'url': 'http://cade.irap.omp.eu/documents/Ancillary/4Aladin/DIRBE_3/Norder3/Dir0/Npix0.jpg', 'id': 'ov-gso/P/DIRBE/3'}\n",
      "{'shape': (32, 32, 3), 'dtype': dtype('uint8'), 'url': 'http://cade.irap.omp.eu/documents/Ancillary/4Aladin/DIRBE_4/Norder3/Dir0/Npix0.jpg', 'id': 'ov-gso/P/DIRBE/4'}\n",
      "{'shape': (32, 32, 3), 'dtype': dtype('uint8'), 'url': 'http://cade.irap.omp.eu/documents/Ancillary/4Aladin/DIRBE_5/Norder3/Dir0/Npix0.jpg', 'id': 'ov-gso/P/DIRBE/5'}\n",
      "{'shape': (32, 32, 3), 'dtype': dtype('uint8'), 'url': 'http://cade.irap.omp.eu/documents/Ancillary/4Aladin/DIRBE_6/Norder3/Dir0/Npix0.jpg', 'id': 'ov-gso/P/DIRBE/6'}\n",
      "{'shape': (32, 32, 3), 'dtype': dtype('uint8'), 'url': 'http://cade.irap.omp.eu/documents/Ancillary/4Aladin/DIRBE_7/Norder3/Dir0/Npix0.jpg', 'id': 'ov-gso/P/DIRBE/7'}\n",
      "{'shape': (32, 32, 3), 'dtype': dtype('uint8'), 'url': 'http://cade.irap.omp.eu/documents/Ancillary/4Aladin/DIRBE_8/Norder3/Dir0/Npix0.jpg', 'id': 'ov-gso/P/DIRBE/8'}\n",
      "{'shape': (32, 32, 3), 'dtype': dtype('uint8'), 'url': 'http://cade.irap.omp.eu/documents/Ancillary/4Aladin/DIRBE_9/Norder3/Dir0/Npix0.jpg', 'id': 'ov-gso/P/DIRBE/9'}\n",
      "{'shape': (32, 32, 3), 'dtype': dtype('uint8'), 'url': 'http://cade.irap.omp.eu/documents/Ancillary/4Aladin/DIRBE_ZSMA_1/Norder3/Dir0/Npix0.jpg', 'id': 'ov-gso/P/DIRBE/ZSMA1'}\n",
      "{'shape': (32, 32, 3), 'dtype': dtype('uint8'), 'url': 'http://cade.irap.omp.eu/documents/Ancillary/4Aladin/DIRBE_ZSMA_10/Norder3/Dir0/Npix0.jpg', 'id': 'ov-gso/P/DIRBE/ZSMA10'}\n",
      "{'shape': (32, 32, 3), 'dtype': dtype('uint8'), 'url': 'http://cade.irap.omp.eu/documents/Ancillary/4Aladin/DIRBE_ZSMA_2/Norder3/Dir0/Npix0.jpg', 'id': 'ov-gso/P/DIRBE/ZSMA2'}\n",
      "{'shape': (32, 32, 3), 'dtype': dtype('uint8'), 'url': 'http://cade.irap.omp.eu/documents/Ancillary/4Aladin/DIRBE_ZSMA_3/Norder3/Dir0/Npix0.jpg', 'id': 'ov-gso/P/DIRBE/ZSMA3'}\n",
      "{'shape': (32, 32, 3), 'dtype': dtype('uint8'), 'url': 'http://cade.irap.omp.eu/documents/Ancillary/4Aladin/DIRBE_ZSMA_4/Norder3/Dir0/Npix0.jpg', 'id': 'ov-gso/P/DIRBE/ZSMA4'}\n",
      "{'shape': (32, 32, 3), 'dtype': dtype('uint8'), 'url': 'http://cade.irap.omp.eu/documents/Ancillary/4Aladin/DIRBE_ZSMA_5/Norder3/Dir0/Npix0.jpg', 'id': 'ov-gso/P/DIRBE/ZSMA5'}\n",
      "{'shape': (32, 32, 3), 'dtype': dtype('uint8'), 'url': 'http://cade.irap.omp.eu/documents/Ancillary/4Aladin/DIRBE_ZSMA_6/Norder3/Dir0/Npix0.jpg', 'id': 'ov-gso/P/DIRBE/ZSMA6'}\n",
      "{'shape': (32, 32, 3), 'dtype': dtype('uint8'), 'url': 'http://cade.irap.omp.eu/documents/Ancillary/4Aladin/DIRBE_ZSMA_7/Norder3/Dir0/Npix0.jpg', 'id': 'ov-gso/P/DIRBE/ZSMA7'}\n",
      "{'shape': (32, 32, 3), 'dtype': dtype('uint8'), 'url': 'http://cade.irap.omp.eu/documents/Ancillary/4Aladin/DIRBE_ZSMA_8/Norder3/Dir0/Npix0.jpg', 'id': 'ov-gso/P/DIRBE/ZSMA8'}\n",
      "{'shape': (32, 32, 3), 'dtype': dtype('uint8'), 'url': 'http://cade.irap.omp.eu/documents/Ancillary/4Aladin/DIRBE_ZSMA_9/Norder3/Dir0/Npix0.jpg', 'id': 'ov-gso/P/DIRBE/ZSMA9'}\n",
      "{'shape': (32, 32, 3), 'dtype': dtype('uint8'), 'url': 'http://cade.irap.omp.eu/documents/Ancillary/4Aladin/DRAO_22MHz/Norder3/Dir0/Npix0.jpg', 'id': 'ov-gso/P/DRAO/22MHz'}\n",
      "{'shape': (32, 32, 3), 'dtype': dtype('uint8'), 'url': 'http://cade.irap.omp.eu/documents/Ancillary/4Aladin/Dwingeloo_820MHz/Norder3/Dir0/Npix0.jpg', 'id': 'ov-gso/P/DWINGELOO/820MHz'}\n",
      "{'shape': (128, 128, 3), 'dtype': dtype('uint8'), 'url': 'http://cade.irap.omp.eu/documents/Ancillary/4Aladin/EFFELSBERG+EMLS_21cm/Norder3/Dir0/Npix0.jpg', 'id': 'ov-gso/P/EFFELSBERG+EMLS/21cm/'}\n"
     ]
    },
    {
     "name": "stdout",
     "output_type": "stream",
     "text": [
      "{'shape': (128, 128, 3), 'dtype': dtype('uint8'), 'url': 'http://cade.irap.omp.eu/documents/Ancillary/4Aladin/EFFELSBERG+EMLS_21cm_back/Norder3/Dir0/Npix0.jpg', 'id': 'ov-gso/P/EFFELSBERG+EMLS/21cm/back'}\n",
      "{'shape': (256, 256, 3), 'dtype': dtype('uint8'), 'url': 'http://cade.irap.omp.eu/documents/Ancillary/4Aladin/EFFELSBERG_11cm/Norder3/Dir0/Npix0.jpg', 'id': 'ov-gso/P/EFFELSBERG/11cm'}\n",
      "{'shape': (256, 256, 3), 'dtype': dtype('uint8'), 'url': 'http://cade.irap.omp.eu/documents/Ancillary/4Aladin/EFFELSBERG_11cm_POLQ/Norder3/Dir0/Npix0.jpg', 'id': 'ov-gso/P/EFFELSBERG/11cm/POLQ'}\n",
      "{'shape': (256, 256, 3), 'dtype': dtype('uint8'), 'url': 'http://cade.irap.omp.eu/documents/Ancillary/4Aladin/EFFELSBERG_11cm_POLU/Norder3/Dir0/Npix0.jpg', 'id': 'ov-gso/P/EFFELSBERG/11cm/POLU'}\n",
      "{'shape': (256, 256, 3), 'dtype': dtype('uint8'), 'url': 'http://cade.irap.omp.eu/documents/Ancillary/4Aladin/EFFELSBERG_11cm_back/Norder3/Dir0/Npix0.jpg', 'id': 'ov-gso/P/EFFELSBERG/11cm/back'}\n",
      "{'shape': (128, 128, 3), 'dtype': dtype('uint8'), 'url': 'http://cade.irap.omp.eu/documents/Ancillary/4Aladin/EFFELSBERG_21cm/Norder3/Dir0/Npix0.jpg', 'id': 'ov-gso/P/EFFELSBERG/21cm'}\n",
      "{'shape': (128, 128, 3), 'dtype': dtype('uint8'), 'url': 'http://cade.irap.omp.eu/documents/Ancillary/4Aladin/EFFELSBERG_21cm_POLQ/Norder3/Dir0/Npix0.jpg', 'id': 'ov-gso/P/EFFELSBERG/21cm/POLQ'}\n",
      "{'shape': (128, 128, 3), 'dtype': dtype('uint8'), 'url': 'http://cade.irap.omp.eu/documents/Ancillary/4Aladin/EFFELSBERG_21cm_POLU/Norder3/Dir0/Npix0.jpg', 'id': 'ov-gso/P/EFFELSBERG/21cm/POLU'}\n",
      "{'shape': (128, 128, 3), 'dtype': dtype('uint8'), 'url': 'http://cade.irap.omp.eu/documents/Ancillary/4Aladin/EFFELSBERG_21cm_back/Norder3/Dir0/Npix0.jpg', 'id': 'ov-gso/P/EFFELSBERG/21cm/back'}\n",
      "{'shape': (128, 128, 3), 'dtype': dtype('uint8'), 'url': 'http://cade.irap.omp.eu/documents/Ancillary/4Aladin/GASS+EHBIS/Norder3/Dir0/Npix0.jpg', 'id': 'ov-gso/P/GASS+EHBIS'}\n",
      "{'shape': (128, 128, 3), 'dtype': dtype('uint8'), 'url': 'http://cade.irap.omp.eu/documents/Ancillary/4Aladin/GASS/Norder3/Dir0/Npix0.jpg', 'id': 'ov-gso/P/GASS/NH'}\n",
      "{'shape': (32, 32, 3), 'dtype': dtype('uint8'), 'url': 'http://cade.irap.omp.eu/documents/Ancillary/4Aladin/GAURIBIDANUR/Norder3/Dir0/Npix0.jpg', 'id': 'ov-gso/P/GAURIBIDANUR'}\n",
      "{'shape': (256, 256, 3), 'dtype': dtype('uint8'), 'url': 'http://cade.irap.omp.eu/documents/Ancillary/4Aladin/IRIS_1/Norder3/Dir0/Npix0.jpg', 'id': 'ov-gso/P/IRIS/1'}\n",
      "{'shape': (256, 256, 3), 'dtype': dtype('uint8'), 'url': 'http://cade.irap.omp.eu/documents/Ancillary/4Aladin/IRIS_2/Norder3/Dir0/Npix0.jpg', 'id': 'ov-gso/P/IRIS/2'}\n",
      "{'shape': (256, 256, 3), 'dtype': dtype('uint8'), 'url': 'http://cade.irap.omp.eu/documents/Ancillary/4Aladin/IRIS_3/Norder3/Dir0/Npix0.jpg', 'id': 'ov-gso/P/IRIS/3'}\n",
      "{'shape': (256, 256, 3), 'dtype': dtype('uint8'), 'url': 'http://cade.irap.omp.eu/documents/Ancillary/4Aladin/IRIS_4/Norder3/Dir0/Npix0.jpg', 'id': 'ov-gso/P/IRIS/4'}\n",
      "{'shape': (64, 64, 3), 'dtype': dtype('uint8'), 'url': 'http://cade.irap.omp.eu/documents/Ancillary/4Aladin/IRTS_250/Norder3/Dir0/Npix0.jpg', 'id': 'ov-gso/P/IRTS/250'}\n",
      "{'shape': (64, 64, 3), 'dtype': dtype('uint8'), 'url': 'http://cade.irap.omp.eu/documents/Ancillary/4Aladin/IRTS_400/Norder3/Dir0/Npix0.jpg', 'id': 'ov-gso/P/IRTS/400'}\n",
      "{'shape': (64, 64, 3), 'dtype': dtype('uint8'), 'url': 'http://cade.irap.omp.eu/documents/Ancillary/4Aladin/IRTS_700/Norder3/Dir0/Npix0.jpg', 'id': 'ov-gso/P/IRTS/700'}\n",
      "{'shape': (32, 32, 3), 'dtype': dtype('uint8'), 'url': 'http://cade.irap.omp.eu/documents/Ancillary/4Aladin/LAB_NH/Norder3/Dir0/Npix0.jpg', 'id': 'ov-gso/P/LAB'}\n",
      "{'shape': (512, 512, 3), 'dtype': dtype('uint8'), 'url': 'http://cade.irap.omp.eu/documents/Ancillary/4Aladin/Nobeyama_3cm/Norder3/Dir0/Npix0.jpg', 'id': 'ov-gso/P/Nobeyama/3cm'}\n",
      "{'shape': (8, 8, 3), 'dtype': dtype('uint8'), 'url': 'http://cade.irap.omp.eu/documents/Ancillary/4Aladin/PARKES_150MHz/Norder3/Dir0/Npix0.jpg', 'id': 'ov-gso/P/PARKES/150MHz'}\n",
      "{'shape': (256, 256, 3), 'dtype': dtype('uint8'), 'url': 'http://cade.irap.omp.eu/documents/Ancillary/4Aladin/PARKES_6cm/Norder3/Dir0/Npix0.jpg', 'id': 'ov-gso/P/PARKES/6cm'}\n",
      "{'shape': (8, 8, 3), 'dtype': dtype('uint8'), 'url': 'http://cade.irap.omp.eu/documents/Ancillary/4Aladin/PARKES_85MHz/Norder3/Dir0/Npix0.jpg', 'id': 'ov-gso/P/PARKES/85MHz'}\n",
      "{'shape': (256, 256, 3), 'dtype': dtype('uint8'), 'url': 'http://cade.irap.omp.eu/documents/Ancillary/4Aladin/RASS/Norder3/Dir0/Npix0.jpg', 'id': 'ov-gso/P/RASS'}\n",
      "{'shape': (256, 256, 3), 'dtype': dtype('uint8'), 'url': 'http://cade.irap.omp.eu/documents/Ancillary/4Aladin/RASS_EXP/Norder3/Dir0/Npix0.jpg', 'id': 'ov-gso/P/RASS/EXP'}\n",
      "{'shape': (256, 256, 3), 'dtype': dtype('uint8'), 'url': 'http://cade.irap.omp.eu/documents/Ancillary/4Aladin/RASS_IM2/Norder3/Dir0/Npix0.jpg', 'id': 'ov-gso/P/RASS/HardBand'}\n",
      "{'shape': (256, 256, 3), 'dtype': dtype('uint8'), 'url': 'http://cade.irap.omp.eu/documents/Ancillary/4Aladin/RASS_IM3/Norder3/Dir0/Npix0.jpg', 'id': 'ov-gso/P/RASS/SoftBand'}\n",
      "HTTP error: ov-gso/P/SGPS/CONT\n",
      "HTTP error: ov-gso/P/SGPS/II\n",
      "{'shape': (32, 32, 3), 'dtype': dtype('uint8'), 'url': 'http://cade.irap.omp.eu/documents/Ancillary/4Aladin/STOCKERT+VILLAELISA_1420MHz/Norder3/Dir0/Npix0.jpg', 'id': 'ov-gso/P/STOCKERT+VILLAELISA/1420MHz'}\n",
      "{'shape': (64, 64, 3), 'dtype': dtype('uint8'), 'url': 'http://cade.irap.omp.eu/documents/Ancillary/4Aladin/STOCKERT_11cm/Norder3/Dir0/Npix0.jpg', 'id': 'ov-gso/P/STOCKERT/11cm'}\n",
      "HTTP error: ov-gso/P/SUMSS\n",
      "{'shape': (512, 512, 3), 'dtype': dtype('uint8'), 'url': 'http://cade.irap.omp.eu/documents/Ancillary/4Aladin/VTSS_CONT/Norder3/Dir0/Npix0.jpg', 'id': 'ov-gso/P/VTSS/CONT'}\n",
      "{'shape': (512, 512, 3), 'dtype': dtype('uint8'), 'url': 'http://cade.irap.omp.eu/documents/Ancillary/4Aladin/VTSS/Norder3/Dir0/Npix0.jpg', 'id': 'ov-gso/P/VTSS/Ha'}\n",
      "{'shape': (32, 32, 3), 'dtype': dtype('uint8'), 'url': 'http://cade.irap.omp.eu/documents/Ancillary/4Aladin/WHAM/Norder3/Dir0/Npix0.jpg', 'id': 'ov-gso/P/WHAM'}\n"
     ]
    }
   ],
   "source": [
    "def get_tile_info(survey):\n",
    "    \"\"\"Fetch one tile and check it's data shape and dtype\"\"\"\n",
    "    meta = hips.HipsTileMeta(order=3, ipix=0, file_format='jpg')\n",
    "    url = survey.base_url + '/' + meta.tile_default_url\n",
    "    data = imread(url)\n",
    "    return dict(shape=data.shape, dtype=data.dtype, url=url)\n",
    "\n",
    "def collect_all_info():\n",
    "    surveys = hips.HipsSurveyPropertiesList.fetch()\n",
    "\n",
    "    infos = []\n",
    "    for survey in surveys.data:\n",
    "        if 'hips_tile_format' not in survey.data:\n",
    "            print('Missing hips_tile_format info for:', survey.data['ID'])\n",
    "            continue\n",
    "\n",
    "        if 'jpeg' in survey.tile_format:\n",
    "            try:\n",
    "                info = get_tile_info(survey)\n",
    "                info['id'] = survey.data['ID']\n",
    "                print(info)\n",
    "                infos.append(info)\n",
    "            except HTTPError:\n",
    "                print('HTTP error:', survey.data['ID'])\n",
    "\n",
    "    return infos\n",
    "\n",
    "infos = collect_all_info()"
   ]
  },
  {
   "cell_type": "code",
   "execution_count": 4,
   "metadata": {},
   "outputs": [],
   "source": [
    "from pprint import pprint\n",
    "# pprint(surveys.data[0].data)\n",
    "for info in infos:\n",
    "    if len(info['shape']) < 3:\n",
    "        print(info)"
   ]
  },
  {
   "cell_type": "code",
   "execution_count": 5,
   "metadata": {},
   "outputs": [],
   "source": [
    "# Apparently there's no public single-channel JPEG HiPS tiles?"
   ]
  },
  {
   "cell_type": "markdown",
   "metadata": {},
   "source": [
    "## Example of drawing a single-channel JPEG\n",
    "\n",
    "TODO: This is not a single-channel JPEG example at the moment!"
   ]
  },
  {
   "cell_type": "code",
   "execution_count": 6,
   "metadata": {
    "collapsed": true
   },
   "outputs": [],
   "source": [
    "from astropy.coordinates import SkyCoord\n",
    "from hips import WCSGeometry\n",
    "\n",
    "geometry = WCSGeometry.create(\n",
    "     skydir=SkyCoord(0, 0, unit='deg', frame='galactic'),\n",
    "     width=2000, height=1000, fov=\"3 deg\",\n",
    "     coordsys='galactic', projection='AIT',\n",
    ")"
   ]
  },
  {
   "cell_type": "code",
   "execution_count": 7,
   "metadata": {
    "collapsed": true
   },
   "outputs": [],
   "source": [
    "from hips import HipsSurveyProperties\n",
    "url = 'http://alasky.u-strasbg.fr/2MASS/H/properties'\n",
    "hips_survey = HipsSurveyProperties.fetch(url)"
   ]
  },
  {
   "cell_type": "code",
   "execution_count": 8,
   "metadata": {},
   "outputs": [],
   "source": [
    "from hips import make_sky_image, SimpleTilePainter\n",
    "# data = make_sky_image(geometry, hips_survey, 'jpg')\n",
    "painter = SimpleTilePainter(geometry, hips_survey, 'jpg')"
   ]
  },
  {
   "cell_type": "code",
   "execution_count": 9,
   "metadata": {},
   "outputs": [],
   "source": [
    "painter.run()"
   ]
  },
  {
   "cell_type": "code",
   "execution_count": 10,
   "metadata": {},
   "outputs": [
    {
     "name": "stdout",
     "output_type": "stream",
     "text": [
      "(512, 512, 3)\n",
      "uint8\n"
     ]
    }
   ],
   "source": [
    "tile = painter.tiles[0]\n",
    "print(tile.data.shape)\n",
    "print(tile.data.dtype)"
   ]
  },
  {
   "cell_type": "code",
   "execution_count": 11,
   "metadata": {},
   "outputs": [
    {
     "name": "stdout",
     "output_type": "stream",
     "text": [
      "(1000, 2000, 3)\n",
      "uint8\n"
     ]
    }
   ],
   "source": [
    "print(painter.image.shape)\n",
    "print(painter.image.dtype)"
   ]
  },
  {
   "cell_type": "code",
   "execution_count": null,
   "metadata": {
    "collapsed": true
   },
   "outputs": [],
   "source": []
  }
 ],
 "metadata": {
  "kernelspec": {
   "display_name": "Python 3",
   "language": "python",
   "name": "python3"
  },
  "language_info": {
   "codemirror_mode": {
    "name": "ipython",
    "version": 3
   },
   "file_extension": ".py",
   "mimetype": "text/x-python",
   "name": "python",
   "nbconvert_exporter": "python",
   "pygments_lexer": "ipython3",
   "version": "3.6.2"
  }
 },
 "nbformat": 4,
 "nbformat_minor": 2
}
